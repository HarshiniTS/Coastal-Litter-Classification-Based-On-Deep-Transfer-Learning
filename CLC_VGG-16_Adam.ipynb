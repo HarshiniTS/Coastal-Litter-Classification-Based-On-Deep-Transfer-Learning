{
  "cells": [
    {
      "cell_type": "code",
      "execution_count": 9,
      "metadata": {
        "colab": {
          "base_uri": "https://localhost:8080/"
        },
        "id": "hc_HvDdxBmBI",
        "outputId": "d659cad7-2896-4571-9832-9969414abd91"
      },
      "outputs": [
        {
          "output_type": "stream",
          "name": "stdout",
          "text": [
            "Drive already mounted at /content/drive; to attempt to forcibly remount, call drive.mount(\"/content/drive\", force_remount=True).\n"
          ]
        }
      ],
      "source": [
        "from google.colab import drive\n",
        "drive.mount('/content/drive')"
      ]
    },
    {
      "cell_type": "code",
      "source": [
        "# ls"
      ],
      "metadata": {
        "id": "_A64MMJipFft"
      },
      "execution_count": 10,
      "outputs": []
    },
    {
      "cell_type": "code",
      "execution_count": 11,
      "metadata": {
        "id": "UM4PHEtGCBp9"
      },
      "outputs": [],
      "source": [
        "# cd drive/MyDrive"
      ]
    },
    {
      "cell_type": "code",
      "execution_count": 12,
      "metadata": {
        "id": "d-vGLAMoEN27"
      },
      "outputs": [],
      "source": [
        "import os\n",
        "import cv2\n",
        "from PIL import Image\n",
        "import tensorflow as tf\n",
        "from keras import backend as K\n",
        "from keras.models import load_model\n",
        "from tensorflow.keras.utils import img_to_array\n",
        "# from tensorflow.keras.optimizers import Adam, RMSprop\n",
        "from keras.callbacks import ReduceLROnPlateau\n",
        "from keras.preprocessing.image import ImageDataGenerator\n",
        "imagegen = ImageDataGenerator()\n",
        "import matplotlib.pyplot as plt"
      ]
    },
    {
      "cell_type": "code",
      "execution_count": 13,
      "metadata": {
        "colab": {
          "base_uri": "https://localhost:8080/"
        },
        "id": "7-7hSDkWDxoO",
        "outputId": "72244f77-99dc-4f9f-f7fe-9b71956b48dc"
      },
      "outputs": [
        {
          "output_type": "stream",
          "name": "stdout",
          "text": [
            "Found 4642 images belonging to 4 classes.\n",
            "Found 1037 images belonging to 4 classes.\n",
            "Found 115 images belonging to 4 classes.\n"
          ]
        }
      ],
      "source": [
        "train = imagegen.flow_from_directory(\"Marine_Dataset/train/\", class_mode=\"categorical\", shuffle=True, batch_size=32, target_size=(50, 50))\n",
        "test = imagegen.flow_from_directory(\"Marine_Dataset/test/\", class_mode=\"categorical\", shuffle=True, batch_size=32, target_size=(50, 50))\n",
        "val = imagegen.flow_from_directory(\"Marine_Dataset/val/\", class_mode=\"categorical\", shuffle=True, batch_size=32, target_size=(50, 50))"
      ]
    },
    {
      "cell_type": "code",
      "execution_count": 14,
      "metadata": {
        "id": "4GprqT7aFSrF",
        "colab": {
          "base_uri": "https://localhost:8080/"
        },
        "outputId": "bf76cc1e-903f-4eb2-d35d-d9d18fdb073c"
      },
      "outputs": [
        {
          "output_type": "stream",
          "name": "stdout",
          "text": [
            "Downloading data from https://storage.googleapis.com/tensorflow/keras-applications/vgg16/vgg16_weights_tf_dim_ordering_tf_kernels_notop.h5\n",
            "58889256/58889256 [==============================] - 0s 0us/step\n"
          ]
        }
      ],
      "source": [
        "pre_trained_model = tf.keras.applications.VGG16(input_shape=(50, 50, 3), include_top=False, weights=\"imagenet\")"
      ]
    },
    {
      "cell_type": "code",
      "execution_count": 15,
      "metadata": {
        "colab": {
          "base_uri": "https://localhost:8080/"
        },
        "id": "GZfYEtElFWk4",
        "outputId": "a42c0b1c-edf9-4776-9a09-a8623b477971"
      },
      "outputs": [
        {
          "output_type": "stream",
          "name": "stdout",
          "text": [
            "input_1\n",
            "block1_conv1\n",
            "block1_conv2\n",
            "block1_pool\n",
            "block2_conv1\n",
            "block2_conv2\n",
            "block2_pool\n",
            "block3_conv1\n",
            "block3_conv2\n",
            "block3_conv3\n",
            "block3_pool\n",
            "block4_conv1\n",
            "block4_conv2\n",
            "block4_conv3\n",
            "block4_pool\n",
            "block5_conv1\n",
            "block5_conv2\n",
            "block5_conv3\n",
            "block5_pool\n"
          ]
        }
      ],
      "source": [
        "for layer in pre_trained_model.layers:\n",
        "  print(layer.name)\n",
        "  layer.trainable = False"
      ]
    },
    {
      "cell_type": "code",
      "execution_count": 16,
      "metadata": {
        "id": "Kqk7mBHjFYmF"
      },
      "outputs": [],
      "source": [
        "last_layer = pre_trained_model.get_layer('block5_pool')\n",
        "last_output = last_layer.output\n",
        "x = tf.keras.layers.GlobalMaxPooling2D()(last_output)\n",
        "x = tf.keras.layers.Flatten()(last_output)\n",
        "x = tf.keras.layers.Dense(512, activation='relu')(x)\n",
        "x = tf.keras.layers.Dropout(0.5)(x)\n",
        "x = tf.keras.layers.Dense(4, activation='sigmoid')(x)"
      ]
    },
    {
      "cell_type": "code",
      "execution_count": 17,
      "metadata": {
        "id": "KSq7qH24Fa8d"
      },
      "outputs": [],
      "source": [
        "model = tf.keras.Model(pre_trained_model.input, x)"
      ]
    },
    {
      "cell_type": "code",
      "execution_count": 18,
      "metadata": {
        "id": "WYhgPsD9FdS2"
      },
      "outputs": [],
      "source": [
        "model.compile(optimizer='adam', loss=tf.keras.losses.categorical_crossentropy, metrics=['accuracy'], run_eagerly=True)"
      ]
    },
    {
      "cell_type": "code",
      "execution_count": 19,
      "metadata": {
        "colab": {
          "base_uri": "https://localhost:8080/"
        },
        "id": "A6eMMqmnFe2o",
        "outputId": "a8493c62-b1b7-4d08-bed1-ab9803ae82f4"
      },
      "outputs": [
        {
          "output_type": "stream",
          "name": "stdout",
          "text": [
            "Model: \"model\"\n",
            "_________________________________________________________________\n",
            " Layer (type)                Output Shape              Param #   \n",
            "=================================================================\n",
            " input_1 (InputLayer)        [(None, 50, 50, 3)]       0         \n",
            "                                                                 \n",
            " block1_conv1 (Conv2D)       (None, 50, 50, 64)        1792      \n",
            "                                                                 \n",
            " block1_conv2 (Conv2D)       (None, 50, 50, 64)        36928     \n",
            "                                                                 \n",
            " block1_pool (MaxPooling2D)  (None, 25, 25, 64)        0         \n",
            "                                                                 \n",
            " block2_conv1 (Conv2D)       (None, 25, 25, 128)       73856     \n",
            "                                                                 \n",
            " block2_conv2 (Conv2D)       (None, 25, 25, 128)       147584    \n",
            "                                                                 \n",
            " block2_pool (MaxPooling2D)  (None, 12, 12, 128)       0         \n",
            "                                                                 \n",
            " block3_conv1 (Conv2D)       (None, 12, 12, 256)       295168    \n",
            "                                                                 \n",
            " block3_conv2 (Conv2D)       (None, 12, 12, 256)       590080    \n",
            "                                                                 \n",
            " block3_conv3 (Conv2D)       (None, 12, 12, 256)       590080    \n",
            "                                                                 \n",
            " block3_pool (MaxPooling2D)  (None, 6, 6, 256)         0         \n",
            "                                                                 \n",
            " block4_conv1 (Conv2D)       (None, 6, 6, 512)         1180160   \n",
            "                                                                 \n",
            " block4_conv2 (Conv2D)       (None, 6, 6, 512)         2359808   \n",
            "                                                                 \n",
            " block4_conv3 (Conv2D)       (None, 6, 6, 512)         2359808   \n",
            "                                                                 \n",
            " block4_pool (MaxPooling2D)  (None, 3, 3, 512)         0         \n",
            "                                                                 \n",
            " block5_conv1 (Conv2D)       (None, 3, 3, 512)         2359808   \n",
            "                                                                 \n",
            " block5_conv2 (Conv2D)       (None, 3, 3, 512)         2359808   \n",
            "                                                                 \n",
            " block5_conv3 (Conv2D)       (None, 3, 3, 512)         2359808   \n",
            "                                                                 \n",
            " block5_pool (MaxPooling2D)  (None, 1, 1, 512)         0         \n",
            "                                                                 \n",
            " flatten (Flatten)           (None, 512)               0         \n",
            "                                                                 \n",
            " dense (Dense)               (None, 512)               262656    \n",
            "                                                                 \n",
            " dropout (Dropout)           (None, 512)               0         \n",
            "                                                                 \n",
            " dense_1 (Dense)             (None, 4)                 2052      \n",
            "                                                                 \n",
            "=================================================================\n",
            "Total params: 14,979,396\n",
            "Trainable params: 264,708\n",
            "Non-trainable params: 14,714,688\n",
            "_________________________________________________________________\n"
          ]
        }
      ],
      "source": [
        "model.summary()"
      ]
    },
    {
      "cell_type": "code",
      "execution_count": 20,
      "metadata": {
        "colab": {
          "base_uri": "https://localhost:8080/"
        },
        "id": "efEvn5FfFgoT",
        "outputId": "8ed72c5c-fc74-4c8a-866f-a89fd9b2a74b"
      },
      "outputs": [
        {
          "output_type": "stream",
          "name": "stdout",
          "text": [
            "Epoch 1/5\n",
            "78/78 [==============================] - 582s 7s/step - loss: 4.7044 - accuracy: 0.7216 - val_loss: 4.5663 - val_accuracy: 0.7188\n",
            "Epoch 2/5\n",
            "78/78 [==============================] - 268s 3s/step - loss: 2.4370 - accuracy: 0.7899 - val_loss: 2.1687 - val_accuracy: 0.8125\n",
            "Epoch 3/5\n",
            "78/78 [==============================] - 122s 2s/step - loss: 1.6126 - accuracy: 0.8005 - val_loss: 3.1313 - val_accuracy: 0.7500\n",
            "Epoch 4/5\n",
            "78/78 [==============================] - 56s 714ms/step - loss: 0.9778 - accuracy: 0.8418 - val_loss: 2.8387 - val_accuracy: 0.7500\n",
            "Epoch 5/5\n",
            "78/78 [==============================] - 30s 382ms/step - loss: 0.7339 - accuracy: 0.8564 - val_loss: 2.8554 - val_accuracy: 0.6875\n"
          ]
        }
      ],
      "source": [
        "vgg_classifier = model.fit(train, steps_per_epoch=(2520//32), epochs = 5, validation_data=val, validation_steps=(33//32), batch_size = 32, verbose = 1)"
      ]
    },
    {
      "cell_type": "code",
      "execution_count": 21,
      "metadata": {
        "colab": {
          "base_uri": "https://localhost:8080/"
        },
        "id": "LzohRTHqFoS_",
        "outputId": "e915c3f7-5a94-4869-e424-4ed3803a7bba"
      },
      "outputs": [
        {
          "output_type": "stream",
          "name": "stdout",
          "text": [
            "33/33 [==============================] - 270s 8s/step - loss: 0.8920 - accuracy: 0.8390\n",
            "[Loss, Accuracy] =  [0.8919681906700134, 0.8389585614204407]\n"
          ]
        }
      ],
      "source": [
        "result = model.evaluate(test, batch_size=32)\n",
        "print(\"[Loss, Accuracy] = \", result)"
      ]
    },
    {
      "cell_type": "code",
      "source": [
        "import numpy as np"
      ],
      "metadata": {
        "id": "6AL9pPv228Bh"
      },
      "execution_count": 23,
      "outputs": []
    },
    {
      "cell_type": "code",
      "source": [
        "test_img = 'test_image.png'"
      ],
      "metadata": {
        "id": "_jfIPb6F2q1Q"
      },
      "execution_count": 36,
      "outputs": []
    },
    {
      "cell_type": "code",
      "source": [
        "test = cv2.imread(test_img)\n",
        "test = cv2.resize(test, (50, 50))\n",
        "test = np.array(test)\n",
        "test = np.expand_dims(test, axis=0)\n",
        "print(\"Shape of Validation Data: \", test.shape)\n",
        "pred = model.predict(test)"
      ],
      "metadata": {
        "colab": {
          "base_uri": "https://localhost:8080/"
        },
        "id": "iOU17Mur2qmJ",
        "outputId": "afced9ba-ae7d-4787-93a7-a8b0474a4606"
      },
      "execution_count": 37,
      "outputs": [
        {
          "output_type": "stream",
          "name": "stdout",
          "text": [
            "Shape of Validation Data:  (1, 50, 50, 3)\n",
            "1/1 [==============================] - 0s 24ms/step\n"
          ]
        }
      ]
    },
    {
      "cell_type": "code",
      "source": [
        "def pred_img(index):\n",
        "    if index == 0:\n",
        "        return 'Biodegradable'\n",
        "    elif index == 1:\n",
        "        return 'Non-Biodegradable'\n",
        "    elif index == 3:\n",
        "        return 'Reduce/Reuse/Recycle-able'\n",
        "    else:\n",
        "        return 'Others'\n",
        "\n",
        "\n",
        "op = []\n",
        "pred = np.array(pred.tolist())[0]\n",
        "index = pred.tolist().index(max(pred))\n",
        "# print(index)\n",
        "print(\"Input Test Image falls under the Category:\", pred_img(index))\n",
        "print(\"Accuracy = \", max(pred))"
      ],
      "metadata": {
        "colab": {
          "base_uri": "https://localhost:8080/"
        },
        "id": "WMTe4RrZ3COC",
        "outputId": "55781a21-64cf-4bb6-e1d8-c9eaa2c15239"
      },
      "execution_count": 38,
      "outputs": [
        {
          "output_type": "stream",
          "name": "stdout",
          "text": [
            "Input Test Image falls under the Category: Non-Biodegradable\n",
            "Accuracy =  0.9991723299026489\n"
          ]
        }
      ]
    }
  ],
  "metadata": {
    "colab": {
      "collapsed_sections": [],
      "provenance": []
    },
    "kernelspec": {
      "display_name": "Python 3",
      "name": "python3"
    },
    "language_info": {
      "name": "python"
    },
    "accelerator": "GPU"
  },
  "nbformat": 4,
  "nbformat_minor": 0
}